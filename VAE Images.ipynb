{
 "cells": [
  {
   "cell_type": "markdown",
   "id": "3d6e1bc0",
   "metadata": {},
   "source": [
    "sudo PYTHONPATH=$PYTHONPATH:$PWD/CARLA_0.9.6/PythonAPI/carla/dist/carla-0.9.6-py3.5-linux-x86_64.egg ./../anaconda3/envs/c557/bin/jupyter notebook --allow-root\n"
   ]
  },
  {
   "cell_type": "code",
   "execution_count": 1,
   "id": "9addfb3b",
   "metadata": {},
   "outputs": [],
   "source": [
    "import numpy as np\n",
    "import tensorflow as tf\n",
    "from tensorflow import keras\n",
    "import gym\n",
    "import gym_carla\n",
    "import carla\n",
    "import scipy.signal\n",
    "import time\n",
    "import cv2\n",
    "import keyboard"
   ]
  },
  {
   "cell_type": "code",
   "execution_count": 20,
   "id": "d4563122",
   "metadata": {},
   "outputs": [],
   "source": [
    "params = {\n",
    "    'number_of_vehicles': 0,\n",
    "    'number_of_walkers': 0,\n",
    "    'display_width': 512,  # screen size of bird-eye render\n",
    "    'display_height' : 512,\n",
    "    'max_past_step': 1,  # the number of past steps to draw\n",
    "    'dt': 0.1,  # time interval between two frames\n",
    "    'discrete': False,  # whether to use discrete control space\n",
    "    'discrete_acc': [1.0, 0.0, 1.0],  # discrete value of accelerations\n",
    "    'discrete_steer': [-1, 0, 1],  # discrete value of steering angles\n",
    "    'continuous_accel_range': [-3.0, 3.0],  # continuous acceleration range\n",
    "    'continuous_steer_range': [-0.2, 0.2],  # continuous steering angle range\n",
    "    'ego_vehicle_filter': 'vehicle.lincoln*',  # filter for defining ego vehicle\n",
    "    'address':'localhost',\n",
    "    'port': 2000,  # connection port\n",
    "    'town': 'Town01',  # which town to simulate\n",
    "    'task_mode': 'random',  # mode of the task, [random, roundabout (only for Town03)]\n",
    "    'max_time_episode': 1000,  # maximum timesteps per episode\n",
    "    'max_waypt': 12,  # maximum number of waypoints\n",
    "    'obs_range': 32,  # observation range (meter)\n",
    "    'lidar_bin': 0.125,  # bin size of lidar sensor (meter)\n",
    "    'd_behind': 12,  # distance behind the ego vehicle (meter)\n",
    "    'out_lane_thres': 2.0,  # threshold for out of lane\n",
    "    'desired_speed': 8,  # desired speed (m/s)\n",
    "    'max_ego_spawn_times': 200,  # maximum times to spawn ego vehicle\n",
    "    'display_route': True,  # whether to render the desired route\n",
    "    'pixor_size': 64,  # size of the pixor labels\n",
    "    'pixor': False,  # whether to output PIXOR observation\n",
    "  }"
   ]
  },
  {
   "cell_type": "code",
   "execution_count": 21,
   "id": "182c732c",
   "metadata": {},
   "outputs": [],
   "source": [
    "i = 1405"
   ]
  },
  {
   "cell_type": "code",
   "execution_count": null,
   "id": "ce4fb1bb",
   "metadata": {},
   "outputs": [],
   "source": [
    "#env = gym.make('carla-v0', params=params)\n",
    "observation = env.reset()\n",
    "for _ in range(20): observation, _, _, _ = env.step([1,0])\n",
    "done = False\n",
    "while not done:\n",
    "    #action = 0\n",
    "    if keyboard.is_pressed(\"right\"):\n",
    "        action = -1\n",
    "    elif keyboard.is_pressed(\"left\"):\n",
    "        action = 1\n",
    "    else:\n",
    "        action = 0\n",
    "    observation, _, done, _ = env.step([1, action])\n",
    "    if keyboard.is_pressed(\"esc\"):\n",
    "        cv2.imwrite(f\"images/img_{i}.png\", observation['birdeye'] )\n",
    "        i+=1"
   ]
  },
  {
   "cell_type": "code",
   "execution_count": 5,
   "id": "971e12b9",
   "metadata": {},
   "outputs": [
    {
     "data": {
      "text/plain": [
       "(256, 256, 3)"
      ]
     },
     "execution_count": 5,
     "metadata": {},
     "output_type": "execute_result"
    }
   ],
   "source": [
    "observation['birdeye'].shape"
   ]
  },
  {
   "cell_type": "code",
   "execution_count": 47,
   "id": "8dc6e07b",
   "metadata": {},
   "outputs": [],
   "source": [
    "import keyboard"
   ]
  },
  {
   "cell_type": "code",
   "execution_count": null,
   "id": "3a2ea996",
   "metadata": {},
   "outputs": [],
   "source": []
  }
 ],
 "metadata": {
  "kernelspec": {
   "display_name": "Python 3",
   "language": "python",
   "name": "python3"
  },
  "language_info": {
   "codemirror_mode": {
    "name": "ipython",
    "version": 3
   },
   "file_extension": ".py",
   "mimetype": "text/x-python",
   "name": "python",
   "nbconvert_exporter": "python",
   "pygments_lexer": "ipython3",
   "version": "3.6.13"
  }
 },
 "nbformat": 4,
 "nbformat_minor": 5
}
