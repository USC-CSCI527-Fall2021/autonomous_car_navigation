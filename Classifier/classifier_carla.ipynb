{
 "cells": [
  {
   "cell_type": "code",
   "execution_count": 1,
   "id": "f88a20ed",
   "metadata": {},
   "outputs": [],
   "source": [
    "import numpy as np\n",
    "import tensorflow as tf\n",
    "from tensorflow import keras\n",
    "import pandas as pd\n",
    "import scipy.signal\n",
    "import time\n",
    "import cv2\n",
    "import matplotlib.pyplot as plt"
   ]
  },
  {
   "cell_type": "code",
   "execution_count": 2,
   "id": "5e51085c",
   "metadata": {},
   "outputs": [
    {
     "data": {
      "text/plain": [
       "[]"
      ]
     },
     "execution_count": 2,
     "metadata": {},
     "output_type": "execute_result"
    }
   ],
   "source": [
    "tf.config.list_physical_devices(\"GPU\")"
   ]
  },
  {
   "cell_type": "code",
   "execution_count": 3,
   "id": "76f31770",
   "metadata": {},
   "outputs": [],
   "source": [
    "import tensorflow as tf\n",
    "config = tf.compat.v1.ConfigProto()\n",
    "config.gpu_options.allow_growth = True\n",
    "sess = tf.compat.v1.InteractiveSession(config=config)"
   ]
  },
  {
   "cell_type": "code",
   "execution_count": 4,
   "id": "19d87f70",
   "metadata": {},
   "outputs": [],
   "source": [
    "from tensorflow.keras.layers import Dense, GlobalAveragePooling2D"
   ]
  },
  {
   "cell_type": "code",
   "execution_count": 5,
   "id": "aa137147",
   "metadata": {},
   "outputs": [],
   "source": [
    "num_actions = 3\n",
    "observation_dimensions = (128, 128, 3)"
   ]
  },
  {
   "cell_type": "code",
   "execution_count": 6,
   "id": "444da3ff",
   "metadata": {},
   "outputs": [],
   "source": [
    "def Model():\n",
    "    inp = keras.layers.Input( shape=observation_dimensions )\n",
    "    x = keras.layers.Conv2D(filters=32, kernel_size=(3,3), kernel_initializer='he_normal', \n",
    "                            padding='same', activation=\"relu\")(inp)\n",
    "#     x = keras.layers.AveragePooling2D( (2,2) )(x)\n",
    "#     x = keras.layers.Conv2D(filters=16, kernel_size=(3,3), kernel_initializer='he_normal', \n",
    "#                             padding='same', activation=\"relu\")(x)\n",
    "    x = keras.layers.AveragePooling2D( (2,2) )(x)\n",
    "    x = keras.layers.Conv2D(filters=8, kernel_size=(3,3), kernel_initializer='he_normal', \n",
    "                            padding='same', activation=\"relu\")(x)\n",
    "    x = keras.layers.Flatten()(x)\n",
    "    x = keras.layers.Dense(128, activation=\"relu\")(x)\n",
    "    x = keras.layers.Dense(64, activation=\"relu\")(x)\n",
    "    x = keras.layers.Dense(num_actions, activation=\"softmax\")(x)\n",
    "    return keras.models.Model( inp, x )"
   ]
  },
  {
   "cell_type": "code",
   "execution_count": 7,
   "id": "1e9f3bd0",
   "metadata": {},
   "outputs": [
    {
     "name": "stdout",
     "output_type": "stream",
     "text": [
      "Model: \"model\"\n",
      "_________________________________________________________________\n",
      "Layer (type)                 Output Shape              Param #   \n",
      "=================================================================\n",
      "input_1 (InputLayer)         [(None, 128, 128, 3)]     0         \n",
      "_________________________________________________________________\n",
      "conv2d (Conv2D)              (None, 128, 128, 32)      896       \n",
      "_________________________________________________________________\n",
      "average_pooling2d (AveragePo (None, 64, 64, 32)        0         \n",
      "_________________________________________________________________\n",
      "conv2d_1 (Conv2D)            (None, 64, 64, 8)         2312      \n",
      "_________________________________________________________________\n",
      "flatten (Flatten)            (None, 32768)             0         \n",
      "_________________________________________________________________\n",
      "dense (Dense)                (None, 128)               4194432   \n",
      "_________________________________________________________________\n",
      "dense_1 (Dense)              (None, 64)                8256      \n",
      "_________________________________________________________________\n",
      "dense_2 (Dense)              (None, 3)                 195       \n",
      "=================================================================\n",
      "Total params: 4,206,091\n",
      "Trainable params: 4,206,091\n",
      "Non-trainable params: 0\n",
      "_________________________________________________________________\n"
     ]
    }
   ],
   "source": [
    "model = Model()\n",
    "model.compile( optimizer=\"adam\", loss=\"categorical_crossentropy\", metrics=[\"accuracy\"] )\n",
    "model.summary()"
   ]
  },
  {
   "cell_type": "code",
   "execution_count": 8,
   "id": "1a731afd",
   "metadata": {},
   "outputs": [],
   "source": [
    "import os"
   ]
  },
  {
   "cell_type": "code",
   "execution_count": 9,
   "id": "66936a12",
   "metadata": {},
   "outputs": [
    {
     "name": "stdout",
     "output_type": "stream",
     "text": [
      "(2149, 2)\n"
     ]
    },
    {
     "data": {
      "text/plain": [
       "(2148, 2)"
      ]
     },
     "execution_count": 9,
     "metadata": {},
     "output_type": "execute_result"
    }
   ],
   "source": [
    "data = pd.read_csv(\"action_took.csv\")\n",
    "print(data.shape)\n",
    "data = data[ data.iloc[:,0] != \"0\" ]\n",
    "data.shape"
   ]
  },
  {
   "cell_type": "code",
   "execution_count": 10,
   "id": "ee4a46af",
   "metadata": {},
   "outputs": [
    {
     "data": {
      "text/plain": [
       "(2148, 128, 128, 3)"
      ]
     },
     "execution_count": 10,
     "metadata": {},
     "output_type": "execute_result"
    }
   ],
   "source": [
    "images = []\n",
    "for img in data.iloc[:,0]:\n",
    "    images.append(cv2.imread(img).reshape((-1,128,128,3)) )\n",
    "images = np.concatenate(images, axis=0)\n",
    "images.shape"
   ]
  },
  {
   "cell_type": "code",
   "execution_count": 11,
   "id": "6bf08a00",
   "metadata": {},
   "outputs": [
    {
     "data": {
      "text/plain": [
       "-1    1113\n",
       " 1     558\n",
       " 0     477\n",
       "Name: 1, dtype: int64"
      ]
     },
     "execution_count": 11,
     "metadata": {},
     "output_type": "execute_result"
    }
   ],
   "source": [
    "data.iloc[:,1].value_counts()"
   ]
  },
  {
   "cell_type": "code",
   "execution_count": 12,
   "id": "e5316337",
   "metadata": {},
   "outputs": [],
   "source": [
    "labels = (data.iloc[:,1]+1).values"
   ]
  },
  {
   "cell_type": "code",
   "execution_count": 13,
   "id": "5455b0f0",
   "metadata": {},
   "outputs": [
    {
     "data": {
      "text/plain": [
       "(2148, 3)"
      ]
     },
     "execution_count": 13,
     "metadata": {},
     "output_type": "execute_result"
    }
   ],
   "source": [
    "target = np.zeros( (len(images), 3) )\n",
    "target.shape"
   ]
  },
  {
   "cell_type": "code",
   "execution_count": 14,
   "id": "fcc53c28",
   "metadata": {},
   "outputs": [],
   "source": [
    "for i in range(len(labels)):\n",
    "    target[i][ labels[i] ] = 1"
   ]
  },
  {
   "cell_type": "code",
   "execution_count": 15,
   "id": "0c75d533",
   "metadata": {},
   "outputs": [
    {
     "data": {
      "text/plain": [
       "array([1113.,  477.,  558.])"
      ]
     },
     "execution_count": 15,
     "metadata": {},
     "output_type": "execute_result"
    }
   ],
   "source": [
    "target.sum(axis=0)"
   ]
  },
  {
   "cell_type": "code",
   "execution_count": 16,
   "id": "5938d3d7",
   "metadata": {},
   "outputs": [
    {
     "name": "stdout",
     "output_type": "stream",
     "text": [
      "Epoch 1/3\n",
      "14/14 [==============================] - 14s 893ms/step - loss: 1.6177 - accuracy: 0.6065 - val_loss: 0.5788 - val_accuracy: 0.8860\n",
      "Epoch 2/3\n",
      "14/14 [==============================] - 12s 818ms/step - loss: 0.6586 - accuracy: 0.7381 - val_loss: 0.2801 - val_accuracy: 0.9209\n",
      "Epoch 3/3\n",
      "14/14 [==============================] - 12s 855ms/step - loss: 0.5911 - accuracy: 0.7468 - val_loss: 0.3203 - val_accuracy: 0.9186\n"
     ]
    },
    {
     "data": {
      "text/plain": [
       "<keras.callbacks.History at 0x7f64ec4c1f60>"
      ]
     },
     "execution_count": 16,
     "metadata": {},
     "output_type": "execute_result"
    }
   ],
   "source": [
    "model.fit( images/255, target, validation_split=0.2, batch_size=128, epochs=3 )"
   ]
  },
  {
   "cell_type": "code",
   "execution_count": 20,
   "id": "b5c5d01c",
   "metadata": {},
   "outputs": [],
   "source": [
    "model.save(\"classifier.h5\")"
   ]
  },
  {
   "cell_type": "code",
   "execution_count": 8,
   "id": "6509e030",
   "metadata": {},
   "outputs": [],
   "source": [
    "model = keras.models.load_model(\"classifier.h5\")"
   ]
  },
  {
   "cell_type": "code",
   "execution_count": 9,
   "id": "1be05b92",
   "metadata": {},
   "outputs": [],
   "source": [
    "import gym\n",
    "import gym_carla\n",
    "import carla"
   ]
  },
  {
   "cell_type": "code",
   "execution_count": null,
   "id": "4130ca5f",
   "metadata": {},
   "outputs": [],
   "source": [
    "#WetCloudyNoon, WetSunset, HardRainNoon"
   ]
  },
  {
   "cell_type": "code",
   "execution_count": 44,
   "id": "f96dd07f",
   "metadata": {},
   "outputs": [],
   "source": [
    "params = {\n",
    "    'number_of_vehicles': 0,\n",
    "    'number_of_walkers': 0,\n",
    "    'display_size': 250,  # screen size of bird-eye render\n",
    "    'display_height' : 512,\n",
    "    'display_main': True,\n",
    "    'weather': \"WetSunset\",\n",
    "    'max_past_step': 1,  # the number of past steps to draw\n",
    "    'dt': 0.1,  # time interval between two frames\n",
    "    'discrete': False,  # whether to use discrete control space\n",
    "    'discrete_acc': [1.0, 0.0, 1.0],  # discrete value of accelerations\n",
    "    'discrete_steer': [-1, 0, 1],  # discrete value of steering angles\n",
    "    'continuous_accel_range': [-3.0, 3.0],  # continuous acceleration range\n",
    "    'continuous_steer_range': [-0.2, 0.2],  # continuous steering angle range\n",
    "    'ego_vehicle_filter': 'vehicle.lincoln*',  # filter for defining ego vehicle\n",
    "    'address':'localhost',\n",
    "    'port': 2000, # connection port\n",
    "    'town': 'Town02', # which town to simulate\n",
    "    'task_mode': 'random',  # mode of the task, [random, roundabout (only for Town03)]\n",
    "    'max_time_episode': 5000,  # maximum timesteps per episode\n",
    "    'max_waypt': 12,  # maximum number of waypoints\n",
    "    'obs_range': 32,  # observation range (meter)\n",
    "    'lidar_bin': 0.125,  # bin size of lidar sensor (meter)\n",
    "    'd_behind': 12,  # distance behind the ego vehicle (meter)\n",
    "    'out_lane_thres': 3.0,  # threshold for out of lane\n",
    "    'desired_speed': 8,  # desired speed (m/s)\n",
    "    'max_ego_spawn_times': 200,  # maximum times to spawn ego vehicle\n",
    "    'display_route': True,  # whether to render the desired route\n",
    "    'pixor_size': 64,  # size of the pixor labels\n",
    "    'pixor': False,  # whether to output PIXOR observation\n",
    "  }"
   ]
  },
  {
   "cell_type": "code",
   "execution_count": 45,
   "id": "1e798569",
   "metadata": {},
   "outputs": [
    {
     "name": "stdout",
     "output_type": "stream",
     "text": [
      "connecting to Carla server...\n",
      "Carla server connected!\n"
     ]
    }
   ],
   "source": [
    "def read_transform(img):\n",
    "    return img[76:204,76:204,:]/255\n",
    "env = gym.make('carla-v0', params=params)"
   ]
  },
  {
   "cell_type": "code",
   "execution_count": 46,
   "id": "cd07fd48",
   "metadata": {},
   "outputs": [],
   "source": [
    "observation =  env.reset()\n",
    "for _ in range(20): observation, _, _, _ = env.step([1,0])\n",
    "done = False\n",
    "while not done:\n",
    "    #action = np.random.choice( [-1,0,1], p=model.predict( read_transform(observation['birdeye']).reshape( (1, 128,128,3) ))[0])\n",
    "    action = np.argmax(model.predict( read_transform(observation['birdeye']).reshape( (1, 128,128,3) ))[0])-1\n",
    "    observation, _, done, _ = env.step( [1,action] ) "
   ]
  },
  {
   "cell_type": "code",
   "execution_count": 127,
   "id": "71d1529b",
   "metadata": {},
   "outputs": [],
   "source": []
  },
  {
   "cell_type": "code",
   "execution_count": null,
   "id": "336bb0d1",
   "metadata": {},
   "outputs": [],
   "source": []
  }
 ],
 "metadata": {
  "kernelspec": {
   "display_name": "Python 3",
   "language": "python",
   "name": "python3"
  },
  "language_info": {
   "codemirror_mode": {
    "name": "ipython",
    "version": 3
   },
   "file_extension": ".py",
   "mimetype": "text/x-python",
   "name": "python",
   "nbconvert_exporter": "python",
   "pygments_lexer": "ipython3",
   "version": "3.6.13"
  }
 },
 "nbformat": 4,
 "nbformat_minor": 5
}
