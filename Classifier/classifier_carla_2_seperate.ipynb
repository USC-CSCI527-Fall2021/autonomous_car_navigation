{
 "cells": [
  {
   "cell_type": "code",
   "execution_count": 1,
   "id": "f88a20ed",
   "metadata": {},
   "outputs": [],
   "source": [
    "import numpy as np\n",
    "import tensorflow as tf\n",
    "from tensorflow import keras\n",
    "import pandas as pd\n",
    "import scipy.signal\n",
    "import time\n",
    "import cv2\n",
    "import matplotlib.pyplot as plt"
   ]
  },
  {
   "cell_type": "code",
   "execution_count": 2,
   "id": "5e51085c",
   "metadata": {},
   "outputs": [
    {
     "data": {
      "text/plain": [
       "[]"
      ]
     },
     "execution_count": 2,
     "metadata": {},
     "output_type": "execute_result"
    }
   ],
   "source": [
    "tf.config.list_physical_devices(\"GPU\")"
   ]
  },
  {
   "cell_type": "code",
   "execution_count": 3,
   "id": "76f31770",
   "metadata": {},
   "outputs": [],
   "source": [
    "import tensorflow as tf\n",
    "config = tf.compat.v1.ConfigProto()\n",
    "config.gpu_options.allow_growth = True\n",
    "sess = tf.compat.v1.InteractiveSession(config=config)"
   ]
  },
  {
   "cell_type": "code",
   "execution_count": 4,
   "id": "19d87f70",
   "metadata": {},
   "outputs": [],
   "source": [
    "from tensorflow.keras.layers import Dense, GlobalAveragePooling2D"
   ]
  },
  {
   "cell_type": "code",
   "execution_count": 5,
   "id": "aa137147",
   "metadata": {},
   "outputs": [],
   "source": [
    "num_actions = 3\n",
    "observation_dimensions = (128, 128, 3)"
   ]
  },
  {
   "cell_type": "code",
   "execution_count": 6,
   "id": "444da3ff",
   "metadata": {},
   "outputs": [],
   "source": [
    "def Model(actions):\n",
    "    inp = keras.layers.Input( shape=observation_dimensions )\n",
    "    x = keras.layers.Conv2D(filters=32, kernel_size=(3,3), kernel_initializer='he_normal', \n",
    "                            padding='same', activation=\"relu\")(inp)\n",
    "    \n",
    "    x = keras.layers.AveragePooling2D( (2,2) )(x)\n",
    "    x = keras.layers.Conv2D(filters=8, kernel_size=(3,3), kernel_initializer='he_normal', \n",
    "                            padding='same', activation=\"relu\")(x)\n",
    "    \n",
    "    x = keras.layers.Flatten()(x)\n",
    "    x = keras.layers.Dense(128, activation=\"relu\")(x)\n",
    "    \n",
    "    x1 = keras.layers.Dense(64, activation=\"relu\")(x)\n",
    "    x1 = keras.layers.Dense(actions, activation=\"softmax\", name=\"throttle\")(x1)\n",
    "        \n",
    "    return keras.models.Model( inp, x1 )"
   ]
  },
  {
   "cell_type": "code",
   "execution_count": 7,
   "id": "f1e16032",
   "metadata": {},
   "outputs": [],
   "source": [
    "steer_model = Model(3)\n",
    "steer_model.compile( optimizer=\"adam\", loss=\"categorical_crossentropy\", metrics=[\"accuracy\"] )\n",
    "\n",
    "acc_model = Model(2)\n",
    "acc_model.compile( optimizer=\"adam\", loss=\"categorical_crossentropy\", metrics=[\"accuracy\"] )"
   ]
  },
  {
   "cell_type": "code",
   "execution_count": 8,
   "id": "1a731afd",
   "metadata": {},
   "outputs": [],
   "source": [
    "import os"
   ]
  },
  {
   "cell_type": "code",
   "execution_count": 9,
   "id": "66936a12",
   "metadata": {},
   "outputs": [
    {
     "name": "stdout",
     "output_type": "stream",
     "text": [
      "(605, 3)\n"
     ]
    },
    {
     "data": {
      "text/plain": [
       "(604, 3)"
      ]
     },
     "execution_count": 9,
     "metadata": {},
     "output_type": "execute_result"
    }
   ],
   "source": [
    "data = pd.read_csv(\"action_took.csv\").drop_duplicates()\n",
    "print(data.shape)\n",
    "data = data[ data.iloc[:,0] != \"0\" ]\n",
    "data.shape"
   ]
  },
  {
   "cell_type": "code",
   "execution_count": 10,
   "id": "4603f6a2",
   "metadata": {},
   "outputs": [
    {
     "name": "stderr",
     "output_type": "stream",
     "text": [
      "/opt/anaconda3/envs/c557/lib/python3.6/site-packages/pandas/core/indexing.py:670: SettingWithCopyWarning: \n",
      "A value is trying to be set on a copy of a slice from a DataFrame\n",
      "\n",
      "See the caveats in the documentation: https://pandas.pydata.org/pandas-docs/stable/user_guide/indexing.html#returning-a-view-versus-a-copy\n",
      "  iloc._setitem_with_indexer(indexer, value)\n"
     ]
    },
    {
     "data": {
      "text/plain": [
       "1    518\n",
       "0     86\n",
       "Name: 1, dtype: int64"
      ]
     },
     "execution_count": 10,
     "metadata": {},
     "output_type": "execute_result"
    }
   ],
   "source": [
    "up_down_target = data.iloc[:,1]\n",
    "up_down_target.iloc[data.iloc[:,1] == -1] = 0\n",
    "up_down_target.value_counts()"
   ]
  },
  {
   "cell_type": "code",
   "execution_count": 11,
   "id": "54c5f4f2",
   "metadata": {},
   "outputs": [
    {
     "data": {
      "text/plain": [
       " 0    304\n",
       "-1    198\n",
       " 1    102\n",
       "Name: 2, dtype: int64"
      ]
     },
     "execution_count": 11,
     "metadata": {},
     "output_type": "execute_result"
    }
   ],
   "source": [
    "left_right_target = data.iloc[:,2]\n",
    "left_right_target.value_counts()"
   ]
  },
  {
   "cell_type": "code",
   "execution_count": 12,
   "id": "ee4a46af",
   "metadata": {},
   "outputs": [
    {
     "data": {
      "text/plain": [
       "(604, 128, 128, 3)"
      ]
     },
     "execution_count": 12,
     "metadata": {},
     "output_type": "execute_result"
    }
   ],
   "source": [
    "images = []\n",
    "for img in data.iloc[:,0]:\n",
    "    images.append(cv2.imread(img).reshape((-1,128,128,3)) )\n",
    "images = np.concatenate(images, axis=0)\n",
    "images.shape"
   ]
  },
  {
   "cell_type": "code",
   "execution_count": 13,
   "id": "e5316337",
   "metadata": {},
   "outputs": [],
   "source": [
    "up_down_target = (up_down_target).values\n",
    "left_right_target = (left_right_target+1).values"
   ]
  },
  {
   "cell_type": "code",
   "execution_count": 14,
   "id": "5455b0f0",
   "metadata": {},
   "outputs": [
    {
     "data": {
      "text/plain": [
       "((604, 2), (604, 3))"
      ]
     },
     "execution_count": 14,
     "metadata": {},
     "output_type": "execute_result"
    }
   ],
   "source": [
    "target_ud = np.zeros( (len(images), 2) )\n",
    "target_lr = np.zeros( (len(images), 3) )\n",
    "target_ud.shape, target_lr.shape"
   ]
  },
  {
   "cell_type": "code",
   "execution_count": 15,
   "id": "fcc53c28",
   "metadata": {},
   "outputs": [],
   "source": [
    "for i in range(len(up_down_target)):\n",
    "    target_ud[i][ up_down_target[i] ] = 1\n",
    "    \n",
    "for i in range(len(left_right_target)):\n",
    "    target_lr[i][ left_right_target[i] ] = 1"
   ]
  },
  {
   "cell_type": "code",
   "execution_count": 16,
   "id": "0c75d533",
   "metadata": {},
   "outputs": [
    {
     "data": {
      "text/plain": [
       "(array([ 86., 518.]), array([198., 304., 102.]))"
      ]
     },
     "execution_count": 16,
     "metadata": {},
     "output_type": "execute_result"
    }
   ],
   "source": [
    "target_ud.sum(axis=0), target_lr.sum(axis=0)"
   ]
  },
  {
   "cell_type": "code",
   "execution_count": 17,
   "id": "c4ef2292",
   "metadata": {},
   "outputs": [
    {
     "name": "stdout",
     "output_type": "stream",
     "text": [
      "Epoch 1/3\n",
      "4/4 [==============================] - 3s 648ms/step - loss: 3.8869 - accuracy: 0.3313 - val_loss: 1.1954 - val_accuracy: 0.6033\n",
      "Epoch 2/3\n",
      "4/4 [==============================] - 2s 593ms/step - loss: 1.6731 - accuracy: 0.4638 - val_loss: 0.8909 - val_accuracy: 0.6198\n",
      "Epoch 3/3\n",
      "4/4 [==============================] - 2s 598ms/step - loss: 0.8445 - accuracy: 0.6046 - val_loss: 0.6889 - val_accuracy: 0.7355\n"
     ]
    }
   ],
   "source": [
    "history_steer = steer_model.fit(images/255, target_lr, validation_split=0.2, batch_size=128, epochs=3)"
   ]
  },
  {
   "cell_type": "code",
   "execution_count": 18,
   "id": "ad48b5a1",
   "metadata": {},
   "outputs": [
    {
     "name": "stdout",
     "output_type": "stream",
     "text": [
      "Epoch 1/3\n",
      "4/4 [==============================] - 3s 650ms/step - loss: 1.4643 - accuracy: 0.8530 - val_loss: 1.2428 - val_accuracy: 0.7190\n",
      "Epoch 2/3\n",
      "4/4 [==============================] - 2s 590ms/step - loss: 0.2778 - accuracy: 0.9151 - val_loss: 0.4562 - val_accuracy: 0.7190\n",
      "Epoch 3/3\n",
      "4/4 [==============================] - 2s 607ms/step - loss: 0.1497 - accuracy: 0.9420 - val_loss: 0.7283 - val_accuracy: 0.7190\n"
     ]
    }
   ],
   "source": [
    "history_acc = acc_model.fit(images/255, target_ud, validation_split=0.2, batch_size=128, epochs=3)"
   ]
  },
  {
   "cell_type": "code",
   "execution_count": 19,
   "id": "9d8a83a8",
   "metadata": {},
   "outputs": [],
   "source": [
    "acc_model.save(\"acc_model.h5\")\n",
    "steer_model.save(\"steer_model.h5\")"
   ]
  },
  {
   "cell_type": "code",
   "execution_count": 20,
   "id": "bcaff331",
   "metadata": {},
   "outputs": [],
   "source": [
    "%matplotlib inline\n",
    "plt.style.use(\"seaborn-darkgrid\")"
   ]
  },
  {
   "cell_type": "code",
   "execution_count": 21,
   "id": "9a496917",
   "metadata": {},
   "outputs": [
    {
     "data": {
      "text/plain": [
       "Text(0.5, 1.0, 'Steer accuracy Metric')"
      ]
     },
     "execution_count": 21,
     "metadata": {},
     "output_type": "execute_result"
    },
    {
     "data": {
      "image/png": "[encoded data removed]",
      "text/plain": [
       "<Figure size 432x288 with 1 Axes>"
      ]
     },
     "metadata": {},
     "output_type": "display_data"
    }
   ],
   "source": [
    "plt.plot( range(1,4), history_steer.history[\"accuracy\"], label=\"Train Accuracy\" )\n",
    "plt.plot( range(1,4), np.array(history_steer.history[\"val_accuracy\"]), label=\"Validation Accuracy\")\n",
    "plt.legend()\n",
    "plt.xlabel(\"Epochs\")\n",
    "plt.ylabel(\"Accuracy\")\n",
    "plt.title(\"Steer accuracy Metric\")"
   ]
  },
  {
   "cell_type": "code",
   "execution_count": 22,
   "id": "480cbbda",
   "metadata": {},
   "outputs": [
    {
     "data": {
      "text/plain": [
       "Text(0.5, 1.0, 'Steer loss Metric')"
      ]
     },
     "execution_count": 22,
     "metadata": {},
     "output_type": "execute_result"
    },
    {
     "data": {
      "image/png": "[encoded data removed]",
      "text/plain": [
       "<Figure size 432x288 with 1 Axes>"
      ]
     },
     "metadata": {},
     "output_type": "display_data"
    }
   ],
   "source": [
    "plt.plot( range(1,4), history_steer.history[\"loss\"], label=\"Train Loss\" )\n",
    "plt.plot( range(1,4), np.array(history_steer.history[\"val_loss\"]), label=\"Validation Loss\")\n",
    "plt.legend()\n",
    "plt.xlabel(\"Epochs\")\n",
    "plt.ylabel(\"Loss\")\n",
    "plt.title(\"Steer loss Metric\")"
   ]
  },
  {
   "cell_type": "code",
   "execution_count": 23,
   "id": "1be05b92",
   "metadata": {},
   "outputs": [],
   "source": [
    "import gym\n",
    "import gym_carla\n",
    "import carla "
   ]
  },
  {
   "cell_type": "code",
   "execution_count": 24,
   "id": "4130ca5f",
   "metadata": {},
   "outputs": [],
   "source": [
    "#WetCloudyNoon, WetSunset, HardRainNoon"
   ]
  },
  {
   "cell_type": "code",
   "execution_count": 30,
   "id": "f96dd07f",
   "metadata": {},
   "outputs": [],
   "source": [
    "params = {\n",
    "    'number_of_vehicles': 20,\n",
    "    'number_of_walkers': 30,\n",
    "    'display_size': 250,  # screen size of bird-eye render\n",
    "    'display_height' : 512,\n",
    "    'display_main': True,\n",
    "    'weather': \"WetSunset\",\n",
    "    'max_past_step': 1,  # the number of past steps to draw\n",
    "    'dt': 0.1,  # time interval between two frames\n",
    "    'discrete': False,  # whether to use discrete control space\n",
    "    'discrete_acc': [1.0, 0.0, 1.0],  # discrete value of accelerations\n",
    "    'discrete_steer': [-1, 0, 1],  # discrete value of steering angles\n",
    "    'continuous_accel_range': [-3.0, 3.0],  # continuous acceleration range\n",
    "    'continuous_steer_range': [-0.2, 0.2],  # continuous steering angle range\n",
    "    'ego_vehicle_filter': 'vehicle.tesla.model3',  # filter for defining ego vehicle\n",
    "    'address': 'localhost',\n",
    "    'port': 2000, # connection port\n",
    "    'town': 'Town02', # which town to simulate\n",
    "    'task_mode': 'random',  # mode of the task, [random, roundabout (only for Town03)]\n",
    "    'max_time_episode': 5000,  # maximum timesteps per episode\n",
    "    'max_waypt': 12,  # maximum number of waypoints\n",
    "    'obs_range': 32,  # observation range (meter)\n",
    "    'lidar_bin': 0.125,  # bin size of lidar sensor (meter)\n",
    "    'd_behind': 12,  # distance behind the ego vehicle (meter)\n",
    "    'out_lane_thres': 5.0,  # threshold for out of lane\n",
    "    'desired_speed': 8,  # desired speed (m/s)\n",
    "    'max_ego_spawn_times': 200,  # maximum times to spawn ego vehicle\n",
    "    'display_route': True,  # whether to render the desired route50\n",
    "    'pixor_size': 64,  # size of the pixor labels\n",
    "    'pixor': False,  # whether to output PIXOR observation \n",
    "}"
   ]
  },
  {
   "cell_type": "code",
   "execution_count": 31,
   "id": "1e798569",
   "metadata": {},
   "outputs": [
    {
     "name": "stdout",
     "output_type": "stream",
     "text": [
      "connecting to Carla server...\n",
      "Carla server connected!\n"
     ]
    }
   ],
   "source": [
    "def read_transform(img):\n",
    "    return img[76:204,76:204,:]/255\n",
    "env = gym.make('carla-v0', params=params)"
   ]
  },
  {
   "cell_type": "code",
   "execution_count": 35,
   "id": "cd07fd48",
   "metadata": {},
   "outputs": [],
   "source": [
    "observation =  env.reset()\n",
    "for _ in range(20): observation, _, _, _ = env.step([1.25,0])\n",
    "done = False\n",
    "while not done:\n",
    "    action_ud = np.argmax(acc_model.predict( read_transform(observation['birdeye']).reshape( (1, 128,128,3) ))[0])\n",
    "    action_lr = np.argmax(steer_model.predict( read_transform(observation['birdeye']).reshape( (1, 128,128,3) ))[0])-1\n",
    "    observation, _, done, _ = env.step( [1.25*action_ud if action_ud == 1 else -1, action_lr] )"
   ]
  },
  {
   "cell_type": "code",
   "execution_count": null,
   "id": "892d2cd6",
   "metadata": {},
   "outputs": [],
   "source": []
  }
 ],
 "metadata": {
  "kernelspec": {
   "display_name": "Python 3",
   "language": "python",
   "name": "python3"
  },
  "language_info": {
   "codemirror_mode": {
    "name": "ipython",
    "version": 3
   },
   "file_extension": ".py",
   "mimetype": "text/x-python",
   "name": "python",
   "nbconvert_exporter": "python",
   "pygments_lexer": "ipython3",
   "version": "3.6.13"
  }
 },
 "nbformat": 4,
 "nbformat_minor": 5
}
