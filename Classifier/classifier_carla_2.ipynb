{
 "cells": [
  {
   "cell_type": "code",
   "execution_count": 1,
   "id": "f88a20ed",
   "metadata": {},
   "outputs": [],
   "source": [
    "import numpy as np\n",
    "import tensorflow as tf\n",
    "from tensorflow import keras\n",
    "import pandas as pd\n",
    "import scipy.signal\n",
    "import time\n",
    "import cv2\n",
    "import matplotlib.pyplot as plt"
   ]
  },
  {
   "cell_type": "code",
   "execution_count": 2,
   "id": "5e51085c",
   "metadata": {},
   "outputs": [
    {
     "data": {
      "text/plain": [
       "[]"
      ]
     },
     "execution_count": 2,
     "metadata": {},
     "output_type": "execute_result"
    }
   ],
   "source": [
    "tf.config.list_physical_devices(\"GPU\")"
   ]
  },
  {
   "cell_type": "code",
   "execution_count": 3,
   "id": "76f31770",
   "metadata": {},
   "outputs": [],
   "source": [
    "import tensorflow as tf\n",
    "config = tf.compat.v1.ConfigProto()\n",
    "config.gpu_options.allow_growth = True\n",
    "sess = tf.compat.v1.InteractiveSession(config=config)"
   ]
  },
  {
   "cell_type": "code",
   "execution_count": 4,
   "id": "19d87f70",
   "metadata": {},
   "outputs": [],
   "source": [
    "from tensorflow.keras.layers import Dense, GlobalAveragePooling2D"
   ]
  },
  {
   "cell_type": "code",
   "execution_count": 5,
   "id": "aa137147",
   "metadata": {},
   "outputs": [],
   "source": [
    "num_actions = 3\n",
    "observation_dimensions = (128, 128, 3)"
   ]
  },
  {
   "cell_type": "code",
   "execution_count": 6,
   "id": "444da3ff",
   "metadata": {},
   "outputs": [],
   "source": [
    "def Model(acc_actions, steer_actions):\n",
    "    inp = keras.layers.Input( shape=observation_dimensions )\n",
    "    x = keras.layers.Conv2D(filters=32, kernel_size=(3,3), kernel_initializer='he_normal', \n",
    "                            padding='same', activation=\"relu\")(inp)\n",
    "    \n",
    "    x = keras.layers.AveragePooling2D( (2,2) )(x)\n",
    "    x = keras.layers.Conv2D(filters=8, kernel_size=(3,3), kernel_initializer='he_normal', \n",
    "                            padding='same', activation=\"relu\")(x)\n",
    "    \n",
    "    x = keras.layers.Flatten()(x)\n",
    "    x = keras.layers.Dense(128, activation=\"relu\")(x)\n",
    "    \n",
    "    x1 = keras.layers.Dense(64, activation=\"relu\")(x)\n",
    "    x1 = keras.layers.Dense(acc_actions, activation=\"softmax\", name=\"throttle\")(x1)\n",
    "    \n",
    "    x2 = keras.layers.Dense(64, activation=\"relu\")(x)\n",
    "    x2 = keras.layers.Dense(steer_actions, activation=\"softmax\", name='steer')(x2)\n",
    "    \n",
    "    return keras.models.Model( inp, [x1, x2] )"
   ]
  },
  {
   "cell_type": "code",
   "execution_count": 7,
   "id": "f1e16032",
   "metadata": {},
   "outputs": [
    {
     "name": "stdout",
     "output_type": "stream",
     "text": [
      "Model: \"model\"\n",
      "__________________________________________________________________________________________________\n",
      "Layer (type)                    Output Shape         Param #     Connected to                     \n",
      "==================================================================================================\n",
      "input_1 (InputLayer)            [(None, 128, 128, 3) 0                                            \n",
      "__________________________________________________________________________________________________\n",
      "conv2d (Conv2D)                 (None, 128, 128, 32) 896         input_1[0][0]                    \n",
      "__________________________________________________________________________________________________\n",
      "average_pooling2d (AveragePooli (None, 64, 64, 32)   0           conv2d[0][0]                     \n",
      "__________________________________________________________________________________________________\n",
      "conv2d_1 (Conv2D)               (None, 64, 64, 8)    2312        average_pooling2d[0][0]          \n",
      "__________________________________________________________________________________________________\n",
      "flatten (Flatten)               (None, 32768)        0           conv2d_1[0][0]                   \n",
      "__________________________________________________________________________________________________\n",
      "dense (Dense)                   (None, 128)          4194432     flatten[0][0]                    \n",
      "__________________________________________________________________________________________________\n",
      "dense_1 (Dense)                 (None, 64)           8256        dense[0][0]                      \n",
      "__________________________________________________________________________________________________\n",
      "dense_2 (Dense)                 (None, 64)           8256        dense[0][0]                      \n",
      "__________________________________________________________________________________________________\n",
      "throttle (Dense)                (None, 2)            130         dense_1[0][0]                    \n",
      "__________________________________________________________________________________________________\n",
      "steer (Dense)                   (None, 3)            195         dense_2[0][0]                    \n",
      "==================================================================================================\n",
      "Total params: 4,214,477\n",
      "Trainable params: 4,214,477\n",
      "Non-trainable params: 0\n",
      "__________________________________________________________________________________________________\n"
     ]
    }
   ],
   "source": [
    "model = Model(2, 3)\n",
    "model.compile( optimizer=\"adam\", loss=\"categorical_crossentropy\", metrics=[\"accuracy\"] )\n",
    "model.summary()"
   ]
  },
  {
   "cell_type": "code",
   "execution_count": 8,
   "id": "1a731afd",
   "metadata": {},
   "outputs": [],
   "source": [
    "import os"
   ]
  },
  {
   "cell_type": "code",
   "execution_count": 9,
   "id": "66936a12",
   "metadata": {},
   "outputs": [
    {
     "name": "stdout",
     "output_type": "stream",
     "text": [
      "(1791, 3)\n"
     ]
    },
    {
     "data": {
      "text/plain": [
       "(1790, 3)"
      ]
     },
     "execution_count": 9,
     "metadata": {},
     "output_type": "execute_result"
    }
   ],
   "source": [
    "data = pd.read_csv(\"action_took.csv\").drop_duplicates()\n",
    "print(data.shape)\n",
    "data = data[ data.iloc[:,0] != \"0\" ]\n",
    "data.shape"
   ]
  },
  {
   "cell_type": "code",
   "execution_count": 10,
   "id": "4603f6a2",
   "metadata": {},
   "outputs": [
    {
     "name": "stderr",
     "output_type": "stream",
     "text": [
      "/opt/anaconda3/envs/c557/lib/python3.6/site-packages/pandas/core/indexing.py:670: SettingWithCopyWarning: \n",
      "A value is trying to be set on a copy of a slice from a DataFrame\n",
      "\n",
      "See the caveats in the documentation: https://pandas.pydata.org/pandas-docs/stable/user_guide/indexing.html#returning-a-view-versus-a-copy\n",
      "  iloc._setitem_with_indexer(indexer, value)\n"
     ]
    },
    {
     "data": {
      "text/plain": [
       "1    1639\n",
       "0     151\n",
       "Name: 1, dtype: int64"
      ]
     },
     "execution_count": 10,
     "metadata": {},
     "output_type": "execute_result"
    }
   ],
   "source": [
    "up_down_target = data.iloc[:,1]\n",
    "up_down_target.iloc[data.iloc[:,1] == -1] = 0\n",
    "up_down_target.value_counts()"
   ]
  },
  {
   "cell_type": "code",
   "execution_count": 11,
   "id": "54c5f4f2",
   "metadata": {},
   "outputs": [
    {
     "data": {
      "text/plain": [
       " 1    729\n",
       " 0    680\n",
       "-1    381\n",
       "Name: 2, dtype: int64"
      ]
     },
     "execution_count": 11,
     "metadata": {},
     "output_type": "execute_result"
    }
   ],
   "source": [
    "left_right_target = data.iloc[:,2]\n",
    "left_right_target.value_counts()"
   ]
  },
  {
   "cell_type": "code",
   "execution_count": 12,
   "id": "ee4a46af",
   "metadata": {},
   "outputs": [
    {
     "data": {
      "text/plain": [
       "(1790, 128, 128, 3)"
      ]
     },
     "execution_count": 12,
     "metadata": {},
     "output_type": "execute_result"
    }
   ],
   "source": [
    "images = []\n",
    "for img in data.iloc[:,0]:\n",
    "    images.append(cv2.imread(img).reshape((-1,128,128,3)) )\n",
    "images = np.concatenate(images, axis=0)\n",
    "images.shape"
   ]
  },
  {
   "cell_type": "code",
   "execution_count": 13,
   "id": "e5316337",
   "metadata": {},
   "outputs": [],
   "source": [
    "up_down_target = (up_down_target).values\n",
    "left_right_target = (left_right_target+1).values"
   ]
  },
  {
   "cell_type": "code",
   "execution_count": 14,
   "id": "5455b0f0",
   "metadata": {},
   "outputs": [
    {
     "data": {
      "text/plain": [
       "((1790, 2), (1790, 3))"
      ]
     },
     "execution_count": 14,
     "metadata": {},
     "output_type": "execute_result"
    }
   ],
   "source": [
    "target_ud = np.zeros( (len(images), 2) )\n",
    "target_lr = np.zeros( (len(images), 3) )\n",
    "target_ud.shape, target_lr.shape"
   ]
  },
  {
   "cell_type": "code",
   "execution_count": 15,
   "id": "fcc53c28",
   "metadata": {},
   "outputs": [],
   "source": [
    "for i in range(len(up_down_target)):\n",
    "    target_ud[i][ up_down_target[i] ] = 1\n",
    "    \n",
    "for i in range(len(left_right_target)):\n",
    "    target_lr[i][ left_right_target[i] ] = 1"
   ]
  },
  {
   "cell_type": "code",
   "execution_count": 16,
   "id": "0c75d533",
   "metadata": {},
   "outputs": [
    {
     "data": {
      "text/plain": [
       "(array([ 151., 1639.]), array([381., 680., 729.]))"
      ]
     },
     "execution_count": 16,
     "metadata": {},
     "output_type": "execute_result"
    }
   ],
   "source": [
    "target_ud.sum(axis=0), target_lr.sum(axis=0)"
   ]
  },
  {
   "cell_type": "code",
   "execution_count": 17,
   "id": "c4ef2292",
   "metadata": {},
   "outputs": [
    {
     "name": "stdout",
     "output_type": "stream",
     "text": [
      "Epoch 1/5\n",
      "12/12 [==============================] - 15s 1s/step - loss: 1.2736 - throttle_loss: 0.3777 - steer_loss: 0.8958 - throttle_accuracy: 0.9239 - steer_accuracy: 0.6697 - val_loss: 0.8430 - val_throttle_loss: 0.0814 - val_steer_loss: 0.7616 - val_throttle_accuracy: 0.9916 - val_steer_accuracy: 0.6285\n",
      "Epoch 2/5\n",
      "12/12 [==============================] - 11s 920ms/step - loss: 0.4281 - throttle_loss: 0.0764 - steer_loss: 0.3518 - throttle_accuracy: 0.9791 - steer_accuracy: 0.8547 - val_loss: 0.6506 - val_throttle_loss: 0.0405 - val_steer_loss: 0.6101 - val_throttle_accuracy: 0.9916 - val_steer_accuracy: 0.6955\n",
      "Epoch 3/5\n",
      "12/12 [==============================] - 11s 918ms/step - loss: 0.2673 - throttle_loss: 0.0302 - steer_loss: 0.2371 - throttle_accuracy: 0.9916 - steer_accuracy: 0.9022 - val_loss: 0.8053 - val_throttle_loss: 0.0307 - val_steer_loss: 0.7746 - val_throttle_accuracy: 0.9944 - val_steer_accuracy: 0.6425\n",
      "Epoch 4/5\n",
      "12/12 [==============================] - 10s 813ms/step - loss: 0.1983 - throttle_loss: 0.0142 - steer_loss: 0.1841 - throttle_accuracy: 0.9972 - steer_accuracy: 0.9372 - val_loss: 0.8182 - val_throttle_loss: 0.0278 - val_steer_loss: 0.7904 - val_throttle_accuracy: 0.9944 - val_steer_accuracy: 0.6508\n",
      "Epoch 5/5\n",
      "12/12 [==============================] - 11s 922ms/step - loss: 0.1425 - throttle_loss: 0.0058 - steer_loss: 0.1366 - throttle_accuracy: 0.9993 - steer_accuracy: 0.9448 - val_loss: 0.8176 - val_throttle_loss: 0.0289 - val_steer_loss: 0.7888 - val_throttle_accuracy: 0.9944 - val_steer_accuracy: 0.6816\n"
     ]
    }
   ],
   "source": [
    "history = model.fit(images/255, [target_ud, target_lr], validation_split=0.2, batch_size=128, epochs=5)"
   ]
  },
  {
   "cell_type": "code",
   "execution_count": 18,
   "id": "1be05b92",
   "metadata": {},
   "outputs": [],
   "source": [
    "import gym\n",
    "import gym_carla\n",
    "import carla "
   ]
  },
  {
   "cell_type": "code",
   "execution_count": 19,
   "id": "4130ca5f",
   "metadata": {},
   "outputs": [],
   "source": [
    "#WetCloudyNoon, WetSunset, HardRainNoon"
   ]
  },
  {
   "cell_type": "code",
   "execution_count": 20,
   "id": "f96dd07f",
   "metadata": {},
   "outputs": [],
   "source": [
    "params = {\n",
    "    'number_of_vehicles': 40,\n",
    "    'number_of_walkers': 30,\n",
    "    'display_size': 250,  # screen size of bird-eye render\n",
    "    'display_height' : 512,\n",
    "    'display_main': True,\n",
    "    'weather': \"WetSunset\",\n",
    "    'max_past_step': 1,  # the number of past steps to draw\n",
    "    'dt': 0.1,  # time interval between two frames\n",
    "    'discrete': False,  # whether to use discrete control space\n",
    "    'discrete_acc': [1.0, 0.0, 1.0],  # discrete value of accelerations\n",
    "    'discrete_steer': [-1, 0, 1],  # discrete value of steering angles\n",
    "    'continuous_accel_range': [-3.0, 3.0],  # continuous acceleration range\n",
    "    'continuous_steer_range': [-0.2, 0.2],  # continuous steering angle range\n",
    "    'ego_vehicle_filter': 'vehicle.tesla.model3',  # filter for defining ego vehicle\n",
    "    'address': 'localhost',\n",
    "    'port': 2000, # connection port\n",
    "    'town': 'Town02', # which town to simulate\n",
    "    'task_mode': 'random',  # mode of the task, [random, roundabout (only for Town03)]\n",
    "    'max_time_episode': 5000,  # maximum timesteps per episode\n",
    "    'max_waypt': 12,  # maximum number of waypoints\n",
    "    'obs_range': 32,  # observation range (meter)\n",
    "    'lidar_bin': 0.125,  # bin size of lidar sensor (meter)\n",
    "    'd_behind': 12,  # distance behind the ego vehicle (meter)\n",
    "    'out_lane_thres': 5.0,  # threshold for out of lane\n",
    "    'desired_speed': 8,  # desired speed (m/s)\n",
    "    'max_ego_spawn_times': 200,  # maximum times to spawn ego vehicle\n",
    "    'display_route': True,  # whether to render the desired route50\n",
    "    'pixor_size': 64,  # size of the pixor labels\n",
    "    'pixor': False,  # whether to output PIXOR observation\n",
    "  }"
   ]
  },
  {
   "cell_type": "code",
   "execution_count": 21,
   "id": "1e798569",
   "metadata": {},
   "outputs": [
    {
     "name": "stdout",
     "output_type": "stream",
     "text": [
      "pygame 1.9.6\n",
      "Hello from the pygame community. https://www.pygame.org/contribute.html\n",
      "connecting to Carla server...\n",
      "Carla server connected!\n"
     ]
    }
   ],
   "source": [
    "def read_transform(img):\n",
    "    return img[76:204,76:204,:]/255\n",
    "env = gym.make('carla-v0', params=params)"
   ]
  },
  {
   "cell_type": "code",
   "execution_count": 25,
   "id": "cd07fd48",
   "metadata": {},
   "outputs": [],
   "source": [
    "observation =  env.reset()\n",
    "for _ in range(20): observation, _, _, _ = env.step([1.25,0])\n",
    "done = False\n",
    "while not done:\n",
    "    #action_ud = np.argmax(up_down_model.predict( read_transform(observation['birdeye']).reshape( (1, 128,128,3) ))[0])\n",
    "    #action_lr = np.argmax(left_right_model.predict( read_transform(observation['birdeye']).reshape( (1, 128,128,3) ))[0])-1\n",
    "    action_ud, action_lr = model.predict( read_transform(observation['birdeye']).reshape( (1, 128,128,3) ))\n",
    "    action_ud, action_lr = np.argmax(action_ud[0]), np.argmax(action_lr[0])-1\n",
    "    observation, _, done, _ = env.step( [1.25*action_ud if action_ud == 1 else -1, action_lr] )"
   ]
  },
  {
   "cell_type": "code",
   "execution_count": null,
   "id": "892d2cd6",
   "metadata": {},
   "outputs": [],
   "source": []
  }
 ],
 "metadata": {
  "kernelspec": {
   "display_name": "Python 3",
   "language": "python",
   "name": "python3"
  },
  "language_info": {
   "codemirror_mode": {
    "name": "ipython",
    "version": 3
   },
   "file_extension": ".py",
   "mimetype": "text/x-python",
   "name": "python",
   "nbconvert_exporter": "python",
   "pygments_lexer": "ipython3",
   "version": "3.6.13"
  }
 },
 "nbformat": 4,
 "nbformat_minor": 5
}
