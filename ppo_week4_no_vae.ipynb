{
 "cells": [
  {
   "cell_type": "markdown",
   "id": "be02bc46",
   "metadata": {},
   "source": [
    "https://keras.io/examples/rl/ppo_cartpole/"
   ]
  },
  {
   "cell_type": "code",
   "execution_count": 18,
   "id": "7426d7a7",
   "metadata": {},
   "outputs": [],
   "source": [
    "import numpy as np\n",
    "import tensorflow as tf\n",
    "from tensorflow import keras\n",
    "import gym\n",
    "import gym_carla\n",
    "import carla\n",
    "import scipy.signal\n",
    "import time\n",
    "import cv2"
   ]
  },
  {
   "cell_type": "code",
   "execution_count": 19,
   "id": "268dee84",
   "metadata": {},
   "outputs": [
    {
     "data": {
      "text/plain": [
       "[]"
      ]
     },
     "execution_count": 19,
     "metadata": {},
     "output_type": "execute_result"
    }
   ],
   "source": [
    "tf.config.list_physical_devices(\"GPU\")"
   ]
  },
  {
   "cell_type": "code",
   "execution_count": 20,
   "id": "34ad05a5",
   "metadata": {},
   "outputs": [
    {
     "name": "stderr",
     "output_type": "stream",
     "text": [
      "/opt/anaconda3/envs/c557/lib/python3.6/site-packages/tensorflow/python/client/session.py:1766: UserWarning: An interactive session is already active. This can cause out-of-memory errors in some cases. You must explicitly call `InteractiveSession.close()` to release resources held by the other session(s).\n",
      "  warnings.warn('An interactive session is already active. This can '\n"
     ]
    }
   ],
   "source": [
    "import tensorflow as tf\n",
    "config = tf.compat.v1.ConfigProto()\n",
    "config.gpu_options.allow_growth = True\n",
    "sess = tf.compat.v1.InteractiveSession(config=config)"
   ]
  },
  {
   "cell_type": "code",
   "execution_count": 21,
   "id": "6b1a3702",
   "metadata": {},
   "outputs": [],
   "source": [
    "def discounted_cumulative_sum(x, discount):\n",
    "    # Discounted cumulative sums of vectors for computing rewards-to-go and advantage estimates\n",
    "    \"\"\"\n",
    "    x[n] = b[n-1]*(a[0]*x[n-1] + a[1]*x[n])\n",
    "    \"\"\"\n",
    "    return scipy.signal.lfilter(b=[1], a=[1, float(-discount)], x=x[::-1], axis=0)[::-1]"
   ]
  },
  {
   "cell_type": "code",
   "execution_count": 22,
   "id": "b8230351",
   "metadata": {},
   "outputs": [],
   "source": [
    "from tensorflow.keras.layers import Dense, GlobalAveragePooling2D"
   ]
  },
  {
   "cell_type": "code",
   "execution_count": 23,
   "id": "f0315ddf",
   "metadata": {},
   "outputs": [],
   "source": [
    "num_actions = 3\n",
    "observation_dimensions = (128, 128, 3)"
   ]
  },
  {
   "cell_type": "code",
   "execution_count": 24,
   "id": "b596b815",
   "metadata": {},
   "outputs": [],
   "source": [
    "def discounted_cumulative_sums(x, discount):\n",
    "    # Discounted cumulative sums of vectors for computing rewards-to-go and advantage estimates\n",
    "    return scipy.signal.lfilter([1], [1, float(-discount)], x[::-1], axis=0)[::-1]\n",
    "\n",
    "\n",
    "class Buffer:\n",
    "    # Buffer for storing trajectories\n",
    "    def __init__(self, observation_dimensions, size, gamma=0.99, lam=0.95):\n",
    "        # Buffer initialization\n",
    "        self.observation_buffer = np.zeros(\n",
    "            (size, *observation_dimensions), dtype=np.float32\n",
    "        )\n",
    "        self.action_buffer = np.zeros(size, dtype=np.int32)\n",
    "        self.advantage_buffer = np.zeros(size, dtype=np.float32)\n",
    "        self.reward_buffer = np.zeros(size, dtype=np.float32)\n",
    "        self.return_buffer = np.zeros(size, dtype=np.float32)\n",
    "        self.value_buffer = np.zeros(size, dtype=np.float32)\n",
    "        self.logprobability_buffer = np.zeros(size, dtype=np.float32)\n",
    "        self.gamma, self.lam = gamma, lam\n",
    "        self.pointer, self.trajectory_start_index = 0, 0\n",
    "\n",
    "    def store(self, observation, action, reward, value, logprobability):\n",
    "        # Append one step of agent-environment interaction\n",
    "        self.observation_buffer[self.pointer] = observation\n",
    "        self.action_buffer[self.pointer] = action\n",
    "        self.reward_buffer[self.pointer] = reward\n",
    "        self.value_buffer[self.pointer] = value\n",
    "        self.logprobability_buffer[self.pointer] = logprobability\n",
    "        self.pointer += 1\n",
    "\n",
    "    def finish_trajectory(self, last_value=0):\n",
    "        # Finish the trajectory by computing advantage estimates and rewards-to-go\n",
    "        path_slice = slice(self.trajectory_start_index, self.pointer)\n",
    "        rewards = np.append(self.reward_buffer[path_slice], last_value)\n",
    "        values = np.append(self.value_buffer[path_slice], last_value)\n",
    "\n",
    "        deltas = rewards[:-1] + self.gamma * values[1:] - values[:-1]\n",
    "\n",
    "        self.advantage_buffer[path_slice] = discounted_cumulative_sums(\n",
    "            deltas, self.gamma * self.lam\n",
    "        )\n",
    "        self.return_buffer[path_slice] = discounted_cumulative_sums(\n",
    "            rewards, self.gamma\n",
    "        )[:-1]\n",
    "        \n",
    "        self.trajectory_start_index = self.pointer\n",
    "\n",
    "    def get(self):\n",
    "        # Get all data of the buffer and normalize the advantages\n",
    "        self.pointer, self.trajectory_start_index = 0, 0\n",
    "        advantage_mean, advantage_std = (\n",
    "            np.mean(self.advantage_buffer),\n",
    "            np.std(self.advantage_buffer),\n",
    "        )\n",
    "        self.advantage_buffer = (self.advantage_buffer - advantage_mean) / advantage_std\n",
    "        return (\n",
    "            self.observation_buffer,\n",
    "            self.action_buffer,\n",
    "            self.advantage_buffer,\n",
    "            self.return_buffer,\n",
    "            self.logprobability_buffer,\n",
    "        )\n",
    "\n",
    "\n",
    "def mlp(x, sizes, activation=tf.tanh, output_activation=None):\n",
    "    # Build a feedforward neural network\n",
    "    x = keras.layers.Conv2D(filters=32, kernel_size=(3,3), kernel_initializer='he_normal', \n",
    "                            padding='same', activation=\"relu\")(x)\n",
    "    x = keras.layers.Conv2D(filters=16, kernel_size=(3,3), kernel_initializer='he_normal', \n",
    "                            padding='same', activation=\"relu\")(x)\n",
    "    x = keras.layers.Conv2D(filters=8, kernel_size=(3,3), kernel_initializer='he_normal', \n",
    "                            padding='same', activation=\"relu\")(x)\n",
    "    x = keras.layers.Flatten()(x)\n",
    "    for size in sizes[:-1]:\n",
    "        x = keras.layers.Dense(units=size, activation=activation)(x)\n",
    "    return keras.layers.Dense(units=sizes[-1], activation=output_activation)(x)\n",
    "\n",
    "\n",
    "def logprobabilities(logits, a):\n",
    "    # Compute the log-probabilities of taking actions a by using the logits (i.e. the output of the actor)\n",
    "    logprobabilities_all = tf.nn.log_softmax(logits)\n",
    "    logprobability = tf.reduce_sum(\n",
    "        tf.one_hot(a, num_actions) * logprobabilities_all, axis=1\n",
    "    )\n",
    "    return logprobability\n",
    "\n",
    "\n",
    "# Sample action from actor\n",
    "@tf.function\n",
    "def sample_action(actor, observation):\n",
    "    logits = actor(observation)\n",
    "    action = tf.squeeze(tf.random.categorical(logits, 1), axis=1)\n",
    "    return logits, action\n",
    "\n",
    "# Train the policy by maxizing the PPO-Clip objective\n",
    "@tf.function\n",
    "def train_policy(\n",
    "    observation_buffer, action_buffer, logprobability_buffer, advantage_buffer\n",
    "):\n",
    "    with tf.GradientTape() as tape:  # Record operations for automatic differentiation.\n",
    "        ratio = tf.exp(\n",
    "            logprobabilities(actor(observation_buffer), action_buffer)\n",
    "            - logprobability_buffer\n",
    "        )\n",
    "        min_advantage = tf.where(\n",
    "            advantage_buffer > 0,\n",
    "            (1 + clip_ratio) * advantage_buffer,\n",
    "            (1 - clip_ratio) * advantage_buffer,\n",
    "        )\n",
    "\n",
    "        policy_loss = -tf.reduce_mean(\n",
    "            tf.minimum(ratio * advantage_buffer, min_advantage)\n",
    "        )\n",
    "        \n",
    "    policy_grads = tape.gradient(policy_loss, actor.trainable_variables)\n",
    "    policy_optimizer.apply_gradients(zip(policy_grads, actor.trainable_variables))\n",
    "    kl = tf.reduce_mean(\n",
    "        logprobability_buffer\n",
    "        - logprobabilities(actor(observation_buffer), action_buffer)\n",
    "    )\n",
    "    kl = tf.reduce_sum(kl)\n",
    "    return kl\n",
    "\n",
    "\n",
    "# Train the value function by regression on mean-squared error\n",
    "@tf.function\n",
    "def train_value_function(observation_buffer, return_buffer):\n",
    "    with tf.GradientTape() as tape:  # Record operations for automatic differentiation.\n",
    "        value_loss = tf.reduce_mean((return_buffer - critic(observation_buffer)) ** 2)\n",
    "    value_grads = tape.gradient(value_loss, critic.trainable_variables)\n",
    "    value_optimizer.apply_gradients(zip(value_grads, critic.trainable_variables))\n"
   ]
  },
  {
   "cell_type": "code",
   "execution_count": 25,
   "id": "01f20c44",
   "metadata": {},
   "outputs": [],
   "source": [
    "# Hyperparameters of the PPO algorithm\n",
    "steps_per_epoch = 2000\n",
    "epochs = 50\n",
    "gamma = 0.99\n",
    "clip_ratio = 0.2\n",
    "policy_learning_rate = 3e-4\n",
    "value_function_learning_rate = 1e-3\n",
    "train_policy_iterations = 80\n",
    "train_value_iterations = 80\n",
    "lam = 0.97\n",
    "target_kl = 0.01\n",
    "hidden_sizes = (256, 128, 64)\n",
    "\n",
    "# True if you want to render the environment\n",
    "render = False"
   ]
  },
  {
   "cell_type": "code",
   "execution_count": 26,
   "id": "cc5c9033",
   "metadata": {},
   "outputs": [],
   "source": [
    "params = {\n",
    "    'number_of_vehicles': 0,\n",
    "    'number_of_walkers': 0,\n",
    "    'display_width': 512,  # screen size of bird-eye render\n",
    "    'display_height' : 512,\n",
    "    'max_past_step': 1,  # the number of past steps to draw\n",
    "    'dt': 0.1,  # time interval between two frames\n",
    "    'discrete': False,  # whether to use discrete control space\n",
    "    'discrete_acc': [1.0, 0.0, 1.0],  # discrete value of accelerations\n",
    "    'discrete_steer': [-1, 0, 1],  # discrete value of steering angles\n",
    "    'continuous_accel_range': [-3.0, 3.0],  # continuous acceleration range\n",
    "    'continuous_steer_range': [-0.2, 0.2],  # continuous steering angle range\n",
    "    'ego_vehicle_filter': 'vehicle.lincoln*',  # filter for defining ego vehicle\n",
    "    'address':'localhost',\n",
    "    'port': 2000, # connection port\n",
    "    'town': 'Town02', # which town to simulate\n",
    "    'task_mode': 'random',  # mode of the task, [random, roundabout (only for Town03)]\n",
    "    'max_time_episode': 2000,  # maximum timesteps per episode\n",
    "    'max_waypt': 12,  # maximum number of waypoints\n",
    "    'obs_range': 32,  # observation range (meter)\n",
    "    'lidar_bin': 0.125,  # bin size of lidar sensor (meter)\n",
    "    'd_behind': 12,  # distance behind the ego vehicle (meter)\n",
    "    'out_lane_thres': 2.0,  # threshold for out of lane\n",
    "    'desired_speed': 8,  # desired speed (m/s)\n",
    "    'max_ego_spawn_times': 200,  # maximum times to spawn ego vehicle\n",
    "    'display_route': True,  # whether to render the desired route\n",
    "    'pixor_size': 64,  # size of the pixor labels\n",
    "    'pixor': False,  # whether to output PIXOR observation\n",
    "  }"
   ]
  },
  {
   "cell_type": "code",
   "execution_count": 27,
   "id": "d1101a84",
   "metadata": {},
   "outputs": [],
   "source": [
    "buffer = Buffer(observation_dimensions, steps_per_epoch)\n",
    "\n",
    "observation_input = keras.Input(shape=observation_dimensions, dtype=tf.float32)\n",
    "logits = mlp(observation_input, list(hidden_sizes)+[num_actions], tf.tanh, None)\n",
    "actor = keras.Model(inputs=observation_input, outputs=logits)\n",
    "value = tf.squeeze(\n",
    "    mlp(observation_input, list(hidden_sizes)+[1], tf.tanh, None), axis=1\n",
    ")\n",
    "critic = keras.Model(inputs=observation_input, outputs=value)\n",
    "\n",
    "# Initialize the policy and the value function optimizers\n",
    "policy_optimizer = keras.optimizers.Adam(learning_rate=policy_learning_rate)\n",
    "value_optimizer = keras.optimizers.Adam(learning_rate=value_function_learning_rate)"
   ]
  },
  {
   "cell_type": "code",
   "execution_count": 28,
   "id": "70d59960",
   "metadata": {},
   "outputs": [
    {
     "name": "stdout",
     "output_type": "stream",
     "text": [
      "Model: \"model_2\"\n",
      "_________________________________________________________________\n",
      "Layer (type)                 Output Shape              Param #   \n",
      "=================================================================\n",
      "input_2 (InputLayer)         [(None, 128, 128, 3)]     0         \n",
      "_________________________________________________________________\n",
      "conv2d_4 (Conv2D)            (None, 128, 128, 32)      896       \n",
      "_________________________________________________________________\n",
      "conv2d_5 (Conv2D)            (None, 128, 128, 16)      4624      \n",
      "_________________________________________________________________\n",
      "conv2d_6 (Conv2D)            (None, 128, 128, 8)       1160      \n",
      "_________________________________________________________________\n",
      "flatten_2 (Flatten)          (None, 131072)            0         \n",
      "_________________________________________________________________\n",
      "dense_8 (Dense)              (None, 256)               33554688  \n",
      "_________________________________________________________________\n",
      "dense_9 (Dense)              (None, 128)               32896     \n",
      "_________________________________________________________________\n",
      "dense_10 (Dense)             (None, 64)                8256      \n",
      "_________________________________________________________________\n",
      "dense_11 (Dense)             (None, 3)                 195       \n",
      "=================================================================\n",
      "Total params: 33,602,715\n",
      "Trainable params: 33,602,715\n",
      "Non-trainable params: 0\n",
      "_________________________________________________________________\n"
     ]
    }
   ],
   "source": [
    "actor.summary()\n",
    "tf.config.run_functions_eagerly(True)"
   ]
  },
  {
   "cell_type": "code",
   "execution_count": 40,
   "id": "2f0db872",
   "metadata": {},
   "outputs": [],
   "source": [
    "def transform(img): return img[76:204,76:204,:]/255\n",
    "\n",
    "def manual_play(env, observation, actor, use_actor=True, t=0):\n",
    "    while True:\n",
    "        entry = input(f\"{t}: \")\n",
    "        if entry.isnumeric():\n",
    "            for _ in range(int(entry)):\n",
    "                if use_actor:\n",
    "                    observation = transform( observation['birdeye'] )\n",
    "                    logits, action = sample_action(actor, observation.reshape(1, *observation_dimensions))\n",
    "                    observation, _, done, _ = env.step([1, action[0].numpy()-1])\n",
    "                    if done: return observation\n",
    "                else:\n",
    "                    observation, _, _, _ = env.step([1,0])\n",
    "        else: break\n",
    "    return observation"
   ]
  },
  {
   "cell_type": "code",
   "execution_count": 41,
   "id": "54e3d669",
   "metadata": {},
   "outputs": [],
   "source": [
    "epoch = 1"
   ]
  },
  {
   "cell_type": "code",
   "execution_count": 42,
   "id": "a553194e",
   "metadata": {},
   "outputs": [],
   "source": [
    "#actor.load_weights(\"models/novae_actor_1633929536.h5\")\n",
    "#critic.load_weights(\"models/novae_critic_1633929536.h5\")"
   ]
  },
  {
   "cell_type": "code",
   "execution_count": 43,
   "id": "f1675e6d",
   "metadata": {},
   "outputs": [],
   "source": [
    "manual=False"
   ]
  },
  {
   "cell_type": "code",
   "execution_count": 44,
   "id": "75f4050b",
   "metadata": {},
   "outputs": [],
   "source": [
    "def select_env():\n",
    "    while True:\n",
    "        observation = env.reset()\n",
    "        if input(\"y/n\") == \"n\": return observation"
   ]
  },
  {
   "cell_type": "code",
   "execution_count": null,
   "id": "2f7bd54f",
   "metadata": {
    "scrolled": false
   },
   "outputs": [
    {
     "name": "stdout",
     "output_type": "stream",
     "text": [
      "connecting to Carla server...\n",
      "Carla server connected!\n"
     ]
    }
   ],
   "source": [
    "env = gym.make('carla-v0', params=params)\n",
    "observation =  env.reset() # select_env()\n",
    "episode_return, episode_length = 0, 0\n",
    "for _ in range(20): observation, _, _, _ = env.step([1,0])\n",
    "if manual: observation = manual_play(env, observation, actor, use_actor=False)\n",
    "observation = transform( observation['birdeye'] )\n",
    "    \n",
    "while epoch != epochs:\n",
    "    # Initialize the sum of the returns, lengths and number of episodes for each epoch\n",
    "    sum_return = 0\n",
    "    sum_length = 0\n",
    "    num_episodes = 0\n",
    "        \n",
    "    # Iterate over the steps of each epoch\n",
    "    for t in range(steps_per_epoch): #while True\n",
    "        \n",
    "        # Get the logits, action, and take one step in the environment\n",
    "        logits, action = sample_action(actor, observation.reshape(1, *observation_dimensions))\n",
    "        observation_new, reward, done, _ = env.step([1, action[0].numpy()-1])\n",
    "        observation_new = transform(observation_new['birdeye'])\n",
    "        episode_return += reward\n",
    "        episode_length += 1\n",
    "\n",
    "        # Get the value and log-probability of the action\n",
    "        value_t = critic(observation.reshape(1, *observation_dimensions))\n",
    "        logprobability_t = logprobabilities(logits, action)\n",
    "\n",
    "        # Store obs, act, rew, v_t, logp_pi_t\n",
    "        buffer.store(observation, action, reward, value_t, logprobability_t)\n",
    "\n",
    "        # Update the observation\n",
    "        observation = observation_new\n",
    "\n",
    "        # Finish trajectory if reached to a terminal state\n",
    "        terminal = done\n",
    "        if terminal or (t == steps_per_epoch - 1):\n",
    "            last_value = 0 if done else critic(observation.reshape(1, *observation_dimensions))\n",
    "            buffer.finish_trajectory(last_value)\n",
    "            sum_return += episode_return\n",
    "            sum_length += episode_length\n",
    "            num_episodes += 1\n",
    "            observation =  env.reset()#select_env()\n",
    "            episode_return, episode_length = 0, 0\n",
    "            for _ in range(20): observation, _, _, _ = env.step([1,0])\n",
    "            if manual: observation = manual_play(env, observation, actor, use_actor=False, t=t)\n",
    "            observation = transform(observation['birdeye'])\n",
    "            \n",
    "            \n",
    "    # Print mean return and length for each epoch\n",
    "    with open(\"logs_no_vae.txt\", \"a\") as log:\n",
    "        print(\n",
    "            f\"{epoch + 1},{sum_return / num_episodes},{sum_length / num_episodes}\",\n",
    "            file = log\n",
    "        )\n",
    "    print(\n",
    "        f\" Epoch: {epoch + 1}. Mean Return: {sum_return / num_episodes}. Mean Length: {sum_length / num_episodes}\"\n",
    "    )\n",
    "    \n",
    "    # Get values from the buffer\n",
    "    (\n",
    "        observation_buffer,\n",
    "        action_buffer,\n",
    "        advantage_buffer,\n",
    "        return_buffer,\n",
    "        logprobability_buffer,\n",
    "    ) = buffer.get()\n",
    "\n",
    "    # Update the policy and implement early stopping using KL divergence\n",
    "    for _ in range(train_policy_iterations):\n",
    "        kl = train_policy(\n",
    "            observation_buffer, action_buffer, logprobability_buffer, advantage_buffer\n",
    "        )\n",
    "        if kl > 1.5 * target_kl:\n",
    "            # Early Stopping\n",
    "            break\n",
    "\n",
    "    # Update the value function\n",
    "    for _ in range(train_value_iterations):\n",
    "        train_value_function(observation_buffer, return_buffer)\n",
    "\n",
    "    \n",
    "    tm = int(time.time())\n",
    "    actor.save_weights(f\"models/novae_actor_{tm}.h5\")\n",
    "    critic.save_weights(f\"models/novae_critic_{tm}.h5\")\n",
    "    epoch += 1"
   ]
  },
  {
   "cell_type": "code",
   "execution_count": null,
   "id": "7b46183f",
   "metadata": {},
   "outputs": [],
   "source": []
  }
 ],
 "metadata": {
  "celltoolbar": "Edit Metadata",
  "interpreter": {
   "hash": "5244abfbea663f9976211a0028e484a1e1ee33db3d5df0ef9989df877052a26f"
  },
  "kernelspec": {
   "display_name": "Python 3",
   "language": "python",
   "name": "python3"
  },
  "language_info": {
   "codemirror_mode": {
    "name": "ipython",
    "version": 3
   },
   "file_extension": ".py",
   "mimetype": "text/x-python",
   "name": "python",
   "nbconvert_exporter": "python",
   "pygments_lexer": "ipython3",
   "version": "3.6.13"
  }
 },
 "nbformat": 4,
 "nbformat_minor": 5
}
